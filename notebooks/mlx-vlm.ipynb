{
 "cells": [
  {
   "cell_type": "code",
   "execution_count": 7,
   "metadata": {},
   "outputs": [
    {
     "name": "stderr",
     "output_type": "stream",
     "text": [
      "Fetching 11 files: 100%|██████████| 11/11 [00:00<00:00, 239053.60it/s]\n",
      "Fetching 11 files: 100%|██████████| 11/11 [00:00<00:00, 159094.29it/s]\n"
     ]
    }
   ],
   "source": [
    "from mlx_vlm import load, generate\n",
    "from mlx_vlm.prompt_utils import apply_chat_template\n",
    "from mlx_vlm.utils import load_config\n",
    "\n",
    "model_path = \"mlx-community/Qwen2-VL-2B-Instruct-4bit\"\n",
    "model, processor = load(model_path)\n",
    "config = load_config(model_path)"
   ]
  },
  {
   "cell_type": "code",
   "execution_count": 12,
   "metadata": {},
   "outputs": [
    {
     "name": "stdout",
     "output_type": "stream",
     "text": [
      "This is a musical staff with a single note drawn on it. The note is a quarter note, indicated by the treble clef and the horizontal line above the staff.\n"
     ]
    }
   ],
   "source": [
    "images = [\"../data/images/handwritten_c.jpeg\"]\n",
    "prompt = \"This is a musical staff. A single note is hand drawn on to the staff. Which note is this? Answer in English please. Ignore the clef.\"\n",
    "\n",
    "formatted_prompt = apply_chat_template(\n",
    "    processor, config, prompt, num_images=len(images)\n",
    ")\n",
    "\n",
    "output = generate(model, processor, images, formatted_prompt, verbose=False)\n",
    "print(output)"
   ]
  },
  {
   "cell_type": "code",
   "execution_count": null,
   "metadata": {},
   "outputs": [],
   "source": []
  },
  {
   "cell_type": "code",
   "execution_count": null,
   "metadata": {},
   "outputs": [],
   "source": []
  }
 ],
 "metadata": {
  "kernelspec": {
   "display_name": "Python 3",
   "language": "python",
   "name": "python3"
  },
  "language_info": {
   "codemirror_mode": {
    "name": "ipython",
    "version": 3
   },
   "file_extension": ".py",
   "mimetype": "text/x-python",
   "name": "python",
   "nbconvert_exporter": "python",
   "pygments_lexer": "ipython3",
   "version": "3.11.9"
  }
 },
 "nbformat": 4,
 "nbformat_minor": 2
}
